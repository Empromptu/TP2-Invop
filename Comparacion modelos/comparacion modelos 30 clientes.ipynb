{
 "cells": [
  {
   "cell_type": "code",
   "execution_count": 1,
   "metadata": {},
   "outputs": [],
   "source": [
    "import pandas as pd\n",
    "import statistics as st"
   ]
  },
  {
   "cell_type": "code",
   "execution_count": 2,
   "metadata": {},
   "outputs": [],
   "source": [
    "resNuevos = pd.read_csv('resultados_experimentos_modelo_nuevo_30clientes.csv')\n",
    "resViejos = pd.read_csv('resultados_experimentos_modelo_viejo_30clientes.csv')\n",
    "resNuevosSinExtra = pd.read_csv('resultados_experimentos_modelo_nuevo_sin_extra_30clientes.csv')"
   ]
  },
  {
   "cell_type": "code",
   "execution_count": 7,
   "metadata": {},
   "outputs": [
    {
     "data": {
      "text/html": [
       "<div>\n",
       "<style scoped>\n",
       "    .dataframe tbody tr th:only-of-type {\n",
       "        vertical-align: middle;\n",
       "    }\n",
       "\n",
       "    .dataframe tbody tr th {\n",
       "        vertical-align: top;\n",
       "    }\n",
       "\n",
       "    .dataframe thead th {\n",
       "        text-align: right;\n",
       "    }\n",
       "</style>\n",
       "<table border=\"1\" class=\"dataframe\">\n",
       "  <thead>\n",
       "    <tr style=\"text-align: right;\">\n",
       "      <th></th>\n",
       "      <th>archivo</th>\n",
       "      <th>status_x</th>\n",
       "      <th>valor_objetivo_x</th>\n",
       "      <th>tiempo_segundos_x</th>\n",
       "      <th>status_y</th>\n",
       "      <th>valor_objetivo_y</th>\n",
       "      <th>tiempo_segundos_y</th>\n",
       "    </tr>\n",
       "  </thead>\n",
       "  <tbody>\n",
       "    <tr>\n",
       "      <th>0</th>\n",
       "      <td>instancia_0_30_clientes.txt</td>\n",
       "      <td>integer optimal, tolerance</td>\n",
       "      <td>32956.0</td>\n",
       "      <td>516.492066</td>\n",
       "      <td>integer optimal, tolerance</td>\n",
       "      <td>46735.0</td>\n",
       "      <td>0.570691</td>\n",
       "    </tr>\n",
       "    <tr>\n",
       "      <th>1</th>\n",
       "      <td>instancia_1_30_clientes.txt</td>\n",
       "      <td>integer optimal solution</td>\n",
       "      <td>45083.0</td>\n",
       "      <td>15.775854</td>\n",
       "      <td>integer optimal, tolerance</td>\n",
       "      <td>45083.0</td>\n",
       "      <td>0.405091</td>\n",
       "    </tr>\n",
       "    <tr>\n",
       "      <th>2</th>\n",
       "      <td>instancia_2_30_clientes.txt</td>\n",
       "      <td>integer optimal, tolerance</td>\n",
       "      <td>44213.0</td>\n",
       "      <td>14.289668</td>\n",
       "      <td>integer optimal, tolerance</td>\n",
       "      <td>44213.0</td>\n",
       "      <td>0.557126</td>\n",
       "    </tr>\n",
       "    <tr>\n",
       "      <th>3</th>\n",
       "      <td>instancia_3_30_clientes.txt</td>\n",
       "      <td>integer optimal, tolerance</td>\n",
       "      <td>46775.0</td>\n",
       "      <td>38.410404</td>\n",
       "      <td>integer optimal, tolerance</td>\n",
       "      <td>49476.0</td>\n",
       "      <td>0.494112</td>\n",
       "    </tr>\n",
       "    <tr>\n",
       "      <th>4</th>\n",
       "      <td>instancia_4_30_clientes.txt</td>\n",
       "      <td>integer optimal, tolerance</td>\n",
       "      <td>41920.0</td>\n",
       "      <td>104.886214</td>\n",
       "      <td>integer optimal, tolerance</td>\n",
       "      <td>43849.0</td>\n",
       "      <td>1.587583</td>\n",
       "    </tr>\n",
       "  </tbody>\n",
       "</table>\n",
       "</div>"
      ],
      "text/plain": [
       "                       archivo                    status_x  valor_objetivo_x  \\\n",
       "0  instancia_0_30_clientes.txt  integer optimal, tolerance           32956.0   \n",
       "1  instancia_1_30_clientes.txt    integer optimal solution           45083.0   \n",
       "2  instancia_2_30_clientes.txt  integer optimal, tolerance           44213.0   \n",
       "3  instancia_3_30_clientes.txt  integer optimal, tolerance           46775.0   \n",
       "4  instancia_4_30_clientes.txt  integer optimal, tolerance           41920.0   \n",
       "\n",
       "   tiempo_segundos_x                    status_y  valor_objetivo_y  \\\n",
       "0         516.492066  integer optimal, tolerance           46735.0   \n",
       "1          15.775854  integer optimal, tolerance           45083.0   \n",
       "2          14.289668  integer optimal, tolerance           44213.0   \n",
       "3          38.410404  integer optimal, tolerance           49476.0   \n",
       "4         104.886214  integer optimal, tolerance           43849.0   \n",
       "\n",
       "   tiempo_segundos_y  \n",
       "0           0.570691  \n",
       "1           0.405091  \n",
       "2           0.557126  \n",
       "3           0.494112  \n",
       "4           1.587583  "
      ]
     },
     "execution_count": 7,
     "metadata": {},
     "output_type": "execute_result"
    }
   ],
   "source": [
    "tabla = pd.merge(resNuevos, resViejos, on = 'archivo')\n",
    "tabla.head()"
   ]
  },
  {
   "cell_type": "code",
   "execution_count": 8,
   "metadata": {},
   "outputs": [],
   "source": [
    "tabla = pd.merge(tabla, resNuevosSinExtra, on='archivo')"
   ]
  },
  {
   "cell_type": "code",
   "execution_count": 73,
   "metadata": {},
   "outputs": [
    {
     "data": {
      "text/html": [
       "<div>\n",
       "<style scoped>\n",
       "    .dataframe tbody tr th:only-of-type {\n",
       "        vertical-align: middle;\n",
       "    }\n",
       "\n",
       "    .dataframe tbody tr th {\n",
       "        vertical-align: top;\n",
       "    }\n",
       "\n",
       "    .dataframe thead th {\n",
       "        text-align: right;\n",
       "    }\n",
       "</style>\n",
       "<table border=\"1\" class=\"dataframe\">\n",
       "  <thead>\n",
       "    <tr style=\"text-align: right;\">\n",
       "      <th></th>\n",
       "      <th>archivo</th>\n",
       "      <th>status_x</th>\n",
       "      <th>valor_objetivo_x</th>\n",
       "      <th>tiempo_segundos_x</th>\n",
       "      <th>status_y</th>\n",
       "      <th>valor_objetivo_y</th>\n",
       "      <th>tiempo_segundos_y</th>\n",
       "      <th>status</th>\n",
       "      <th>valor_objetivo</th>\n",
       "      <th>tiempo_segundos</th>\n",
       "    </tr>\n",
       "  </thead>\n",
       "  <tbody>\n",
       "    <tr>\n",
       "      <th>0</th>\n",
       "      <td>instancia_0_30_clientes.txt</td>\n",
       "      <td>integer optimal, tolerance</td>\n",
       "      <td>32956.0</td>\n",
       "      <td>516.492066</td>\n",
       "      <td>integer optimal, tolerance</td>\n",
       "      <td>46735.0</td>\n",
       "      <td>0.570691</td>\n",
       "      <td>integer optimal, tolerance</td>\n",
       "      <td>24162.0</td>\n",
       "      <td>9.977224</td>\n",
       "    </tr>\n",
       "    <tr>\n",
       "      <th>1</th>\n",
       "      <td>instancia_1_30_clientes.txt</td>\n",
       "      <td>integer optimal solution</td>\n",
       "      <td>45083.0</td>\n",
       "      <td>15.775854</td>\n",
       "      <td>integer optimal, tolerance</td>\n",
       "      <td>45083.0</td>\n",
       "      <td>0.405091</td>\n",
       "      <td>integer optimal, tolerance</td>\n",
       "      <td>30881.0</td>\n",
       "      <td>40.948394</td>\n",
       "    </tr>\n",
       "    <tr>\n",
       "      <th>2</th>\n",
       "      <td>instancia_2_30_clientes.txt</td>\n",
       "      <td>integer optimal, tolerance</td>\n",
       "      <td>44213.0</td>\n",
       "      <td>14.289668</td>\n",
       "      <td>integer optimal, tolerance</td>\n",
       "      <td>44213.0</td>\n",
       "      <td>0.557126</td>\n",
       "      <td>integer optimal, tolerance</td>\n",
       "      <td>24833.0</td>\n",
       "      <td>619.208348</td>\n",
       "    </tr>\n",
       "    <tr>\n",
       "      <th>3</th>\n",
       "      <td>instancia_3_30_clientes.txt</td>\n",
       "      <td>integer optimal, tolerance</td>\n",
       "      <td>46775.0</td>\n",
       "      <td>38.410404</td>\n",
       "      <td>integer optimal, tolerance</td>\n",
       "      <td>49476.0</td>\n",
       "      <td>0.494112</td>\n",
       "      <td>integer optimal solution</td>\n",
       "      <td>24448.0</td>\n",
       "      <td>3.337651</td>\n",
       "    </tr>\n",
       "    <tr>\n",
       "      <th>4</th>\n",
       "      <td>instancia_4_30_clientes.txt</td>\n",
       "      <td>integer optimal, tolerance</td>\n",
       "      <td>41920.0</td>\n",
       "      <td>104.886214</td>\n",
       "      <td>integer optimal, tolerance</td>\n",
       "      <td>43849.0</td>\n",
       "      <td>1.587583</td>\n",
       "      <td>integer optimal, tolerance</td>\n",
       "      <td>24014.0</td>\n",
       "      <td>84.967986</td>\n",
       "    </tr>\n",
       "  </tbody>\n",
       "</table>\n",
       "</div>"
      ],
      "text/plain": [
       "                       archivo                    status_x  valor_objetivo_x  \\\n",
       "0  instancia_0_30_clientes.txt  integer optimal, tolerance           32956.0   \n",
       "1  instancia_1_30_clientes.txt    integer optimal solution           45083.0   \n",
       "2  instancia_2_30_clientes.txt  integer optimal, tolerance           44213.0   \n",
       "3  instancia_3_30_clientes.txt  integer optimal, tolerance           46775.0   \n",
       "4  instancia_4_30_clientes.txt  integer optimal, tolerance           41920.0   \n",
       "\n",
       "   tiempo_segundos_x                    status_y  valor_objetivo_y  \\\n",
       "0         516.492066  integer optimal, tolerance           46735.0   \n",
       "1          15.775854  integer optimal, tolerance           45083.0   \n",
       "2          14.289668  integer optimal, tolerance           44213.0   \n",
       "3          38.410404  integer optimal, tolerance           49476.0   \n",
       "4         104.886214  integer optimal, tolerance           43849.0   \n",
       "\n",
       "   tiempo_segundos_y                      status  valor_objetivo  \\\n",
       "0           0.570691  integer optimal, tolerance         24162.0   \n",
       "1           0.405091  integer optimal, tolerance         30881.0   \n",
       "2           0.557126  integer optimal, tolerance         24833.0   \n",
       "3           0.494112    integer optimal solution         24448.0   \n",
       "4           1.587583  integer optimal, tolerance         24014.0   \n",
       "\n",
       "   tiempo_segundos  \n",
       "0         9.977224  \n",
       "1        40.948394  \n",
       "2       619.208348  \n",
       "3         3.337651  \n",
       "4        84.967986  "
      ]
     },
     "execution_count": 73,
     "metadata": {},
     "output_type": "execute_result"
    }
   ],
   "source": [
    "tabla.head()"
   ]
  },
  {
   "cell_type": "code",
   "execution_count": 18,
   "metadata": {},
   "outputs": [
    {
     "data": {
      "text/plain": [
       "630.2523614327113"
      ]
     },
     "execution_count": 18,
     "metadata": {},
     "output_type": "execute_result"
    }
   ],
   "source": [
    "st.mean(tabla.tiempo_segundos.fillna(6000) - tabla.tiempo_segundos_y) #reemplazo el valor nan por 6000, aunque la realidad es que tardo mas, pero no termino"
   ]
  },
  {
   "cell_type": "code",
   "execution_count": 82,
   "metadata": {},
   "outputs": [
    {
     "name": "stdout",
     "output_type": "stream",
     "text": [
      "Tiempo promedio en resolver una instancia: \n",
      "Modelo viejo: 38.98s\n",
      "Modelo nuevo: 485.41s (subestima)\n",
      "Modelo nuevo con restricciones extra: 43.35s\n"
     ]
    }
   ],
   "source": [
    "print(\"Tiempo promedio en resolver una instancia: \")\n",
    "print(f\"Modelo viejo: {tabla.tiempo_segundos_y.mean():.2f}s\")\n",
    "print(f\"Modelo nuevo: {tabla.tiempo_segundos.mean():.2f}s (subestima)\")\n",
    "print(f\"Modelo nuevo con restricciones extra: {tabla.tiempo_segundos_x.mean():.2f}s\")"
   ]
  },
  {
   "cell_type": "code",
   "execution_count": 88,
   "metadata": {},
   "outputs": [
    {
     "name": "stdout",
     "output_type": "stream",
     "text": [
      "En promedio el modelo nuevo tarda 1145.28% mas en resolver una instancia de 30 clientes que el modelo viejo\n",
      "En promedio el modelo nuevo tarda 1019.75% mas en resolver una instancia de 30 clientes que el modelo nuevo con restricciones extra\n",
      "En promedio el modelo nuevo con restricciones extra tarda 11.21% mas en resolver una instancia de 30 clientes que el modelo viejo\n"
     ]
    }
   ],
   "source": [
    "print(f\"En promedio el modelo nuevo tarda {(485.41/38.98 -1)*100:.2f}% mas en resolver una instancia de 30 clientes que el modelo viejo\")\n",
    "print(f\"En promedio el modelo nuevo tarda {(485.41/43.35 -1)*100:.2f}% mas en resolver una instancia de 30 clientes que el modelo nuevo con restricciones extra\")\n",
    "print(f\"En promedio el modelo nuevo con restricciones extra tarda {(43.35/38.98 -1)*100:.2f}% mas en resolver una instancia de 30 clientes que el modelo viejo\")"
   ]
  },
  {
   "cell_type": "code",
   "execution_count": 85,
   "metadata": {},
   "outputs": [
    {
     "name": "stdout",
     "output_type": "stream",
     "text": [
      "promedio valor objetivo -> modelo viejo: 45601.63333333333, modelo restricciones extra: 40200.833333333336, modelo nuevo: 29413.233333333334\n",
      "El modelo nuevo con restricciones extra reduce el costo promedio en 11.84 %\n",
      "El modelo nuevo reduce el costo promedio en 35.50 %\n"
     ]
    }
   ],
   "source": [
    "objN = tabla.valor_objetivo.fillna(35070).mean()\n",
    "objE = tabla.valor_objetivo_x.mean()\n",
    "objV = tabla.valor_objetivo_y.mean()\n",
    "print(f\"promedio valor objetivo -> modelo viejo: {objV}, modelo restricciones extra: {objE}, modelo nuevo: {objN}\")\n",
    "\n",
    "print(f\"El modelo nuevo con restricciones extra reduce el costo promedio en {100 -(objE*100)/objV:.2f} %\")\n",
    "print(f\"El modelo nuevo reduce el costo promedio en {100 -(objN*100)/objV:.2f} %\")"
   ]
  }
 ],
 "metadata": {
  "kernelspec": {
   "display_name": "Python 3",
   "language": "python",
   "name": "python3"
  },
  "language_info": {
   "codemirror_mode": {
    "name": "ipython",
    "version": 3
   },
   "file_extension": ".py",
   "mimetype": "text/x-python",
   "name": "python",
   "nbconvert_exporter": "python",
   "pygments_lexer": "ipython3",
   "version": "3.10.11"
  }
 },
 "nbformat": 4,
 "nbformat_minor": 2
}
