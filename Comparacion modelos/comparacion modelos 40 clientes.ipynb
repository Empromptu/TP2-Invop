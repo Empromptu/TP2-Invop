{
 "cells": [
  {
   "cell_type": "code",
   "execution_count": 1,
   "metadata": {},
   "outputs": [],
   "source": [
    "import pandas as pd\n",
    "import statistics as st"
   ]
  },
  {
   "cell_type": "code",
   "execution_count": 2,
   "metadata": {},
   "outputs": [],
   "source": [
    "resNuevos = pd.read_csv('resultados_experimentos_modelo_nuevo_40clientes.csv')\n",
    "resViejos = pd.read_csv('resultados_experimentos_modelo_viejo_40clientes.csv')"
   ]
  },
  {
   "cell_type": "code",
   "execution_count": 3,
   "metadata": {},
   "outputs": [
    {
     "data": {
      "text/html": [
       "<div>\n",
       "<style scoped>\n",
       "    .dataframe tbody tr th:only-of-type {\n",
       "        vertical-align: middle;\n",
       "    }\n",
       "\n",
       "    .dataframe tbody tr th {\n",
       "        vertical-align: top;\n",
       "    }\n",
       "\n",
       "    .dataframe thead th {\n",
       "        text-align: right;\n",
       "    }\n",
       "</style>\n",
       "<table border=\"1\" class=\"dataframe\">\n",
       "  <thead>\n",
       "    <tr style=\"text-align: right;\">\n",
       "      <th></th>\n",
       "      <th>archivo</th>\n",
       "      <th>status_x</th>\n",
       "      <th>valor_objetivo_x</th>\n",
       "      <th>tiempo_segundos_x</th>\n",
       "      <th>status_y</th>\n",
       "      <th>valor_objetivo_y</th>\n",
       "      <th>tiempo_segundos_y</th>\n",
       "    </tr>\n",
       "  </thead>\n",
       "  <tbody>\n",
       "    <tr>\n",
       "      <th>0</th>\n",
       "      <td>instancia_0_40_clientes.txt</td>\n",
       "      <td>integer optimal solution</td>\n",
       "      <td>50004.0</td>\n",
       "      <td>8.737428</td>\n",
       "      <td>integer optimal, tolerance</td>\n",
       "      <td>50004.0</td>\n",
       "      <td>1.539896</td>\n",
       "    </tr>\n",
       "    <tr>\n",
       "      <th>1</th>\n",
       "      <td>instancia_1_40_clientes.txt</td>\n",
       "      <td>integer optimal, tolerance</td>\n",
       "      <td>37539.0</td>\n",
       "      <td>125.996328</td>\n",
       "      <td>integer optimal, tolerance</td>\n",
       "      <td>55882.0</td>\n",
       "      <td>2.000715</td>\n",
       "    </tr>\n",
       "    <tr>\n",
       "      <th>2</th>\n",
       "      <td>instancia_2_40_clientes.txt</td>\n",
       "      <td>integer optimal, tolerance</td>\n",
       "      <td>48623.0</td>\n",
       "      <td>1.173780</td>\n",
       "      <td>integer optimal solution</td>\n",
       "      <td>48623.0</td>\n",
       "      <td>0.997455</td>\n",
       "    </tr>\n",
       "    <tr>\n",
       "      <th>3</th>\n",
       "      <td>instancia_3_40_clientes.txt</td>\n",
       "      <td>integer optimal, tolerance</td>\n",
       "      <td>53895.0</td>\n",
       "      <td>0.699697</td>\n",
       "      <td>integer optimal, tolerance</td>\n",
       "      <td>53895.0</td>\n",
       "      <td>0.904926</td>\n",
       "    </tr>\n",
       "    <tr>\n",
       "      <th>4</th>\n",
       "      <td>instancia_4_40_clientes.txt</td>\n",
       "      <td>integer optimal, tolerance</td>\n",
       "      <td>48805.0</td>\n",
       "      <td>13.491060</td>\n",
       "      <td>integer optimal, tolerance</td>\n",
       "      <td>48805.0</td>\n",
       "      <td>5.639760</td>\n",
       "    </tr>\n",
       "  </tbody>\n",
       "</table>\n",
       "</div>"
      ],
      "text/plain": [
       "                       archivo                    status_x  valor_objetivo_x  \\\n",
       "0  instancia_0_40_clientes.txt    integer optimal solution           50004.0   \n",
       "1  instancia_1_40_clientes.txt  integer optimal, tolerance           37539.0   \n",
       "2  instancia_2_40_clientes.txt  integer optimal, tolerance           48623.0   \n",
       "3  instancia_3_40_clientes.txt  integer optimal, tolerance           53895.0   \n",
       "4  instancia_4_40_clientes.txt  integer optimal, tolerance           48805.0   \n",
       "\n",
       "   tiempo_segundos_x                    status_y  valor_objetivo_y  \\\n",
       "0           8.737428  integer optimal, tolerance           50004.0   \n",
       "1         125.996328  integer optimal, tolerance           55882.0   \n",
       "2           1.173780    integer optimal solution           48623.0   \n",
       "3           0.699697  integer optimal, tolerance           53895.0   \n",
       "4          13.491060  integer optimal, tolerance           48805.0   \n",
       "\n",
       "   tiempo_segundos_y  \n",
       "0           1.539896  \n",
       "1           2.000715  \n",
       "2           0.997455  \n",
       "3           0.904926  \n",
       "4           5.639760  "
      ]
     },
     "execution_count": 3,
     "metadata": {},
     "output_type": "execute_result"
    }
   ],
   "source": [
    "tabla = pd.merge(resNuevos, resViejos, on = 'archivo')\n",
    "tabla.head()"
   ]
  },
  {
   "cell_type": "code",
   "execution_count": 12,
   "metadata": {},
   "outputs": [
    {
     "name": "stdout",
     "output_type": "stream",
     "text": [
      "Tiempo promedio en resolver una instancia: \n",
      "Modelo viejo: 12.63s\n",
      "Modelo nuevo con restricciones extra: 365.76s\n",
      "En promedio el modelo nuevo con restricciones extra tarda 2795.06% mas en resolver una instancia de 40 clientes que el modelo viejo\n"
     ]
    }
   ],
   "source": [
    "tpViejo = tabla.tiempo_segundos_y.mean()\n",
    "tpExtra = tabla.tiempo_segundos_x.mean()\n",
    "\n",
    "print(\"Tiempo promedio en resolver una instancia: \")\n",
    "print(f\"Modelo viejo: {tpViejo:.2f}s\")\n",
    "print(f\"Modelo nuevo con restricciones extra: {tpExtra:.2f}s\")\n",
    "print(f\"En promedio el modelo nuevo con restricciones extra tarda {(tpExtra/tpViejo -1)*100:.2f}% mas en resolver una instancia de 40 clientes que el modelo viejo\")"
   ]
  },
  {
   "cell_type": "code",
   "execution_count": 11,
   "metadata": {},
   "outputs": [
    {
     "name": "stdout",
     "output_type": "stream",
     "text": [
      "promedio valor objetivo -> modelo viejo: 52003.66666666667, modelo restricciones extra: 48144.78571428588\n",
      "El modelo nuevo con restricciones extra reduce el costo promedio en 7.42 %\n"
     ]
    }
   ],
   "source": [
    "objE = tabla.valor_objetivo_x.mean()\n",
    "objV = tabla.valor_objetivo_y.mean()\n",
    "print(f\"promedio valor objetivo -> modelo viejo: {objV}, modelo restricciones extra: {objE}\")\n",
    "\n",
    "print(f\"El modelo nuevo con restricciones extra reduce el costo promedio en {100 -(objE*100)/objV:.2f} %\")"
   ]
  }
 ],
 "metadata": {
  "kernelspec": {
   "display_name": "Python 3",
   "language": "python",
   "name": "python3"
  },
  "language_info": {
   "codemirror_mode": {
    "name": "ipython",
    "version": 3
   },
   "file_extension": ".py",
   "mimetype": "text/x-python",
   "name": "python",
   "nbconvert_exporter": "python",
   "pygments_lexer": "ipython3",
   "version": "3.10.11"
  }
 },
 "nbformat": 4,
 "nbformat_minor": 2
}
